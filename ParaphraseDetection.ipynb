{
 "cells": [
  {
   "cell_type": "code",
   "execution_count": 1,
   "metadata": {
    "collapsed": false
   },
   "outputs": [],
   "source": [
    "from lxml import etree                  \n",
    "tree = etree.parse('paraphrases.xml')  \n",
    "root = tree.getroot() "
   ]
  },
  {
   "cell_type": "code",
   "execution_count": 2,
   "metadata": {
    "collapsed": false
   },
   "outputs": [
    {
     "name": "stdout",
     "output_type": "stream",
     "text": [
      "5 <Element head at 0x7ff8a80f2320>\n",
      "7227 <Element corpus at 0x7ff8a80f2368>\n",
      "7 <Element paraphrase at 0x7ff8a80f2320> phrases\n",
      "0 <Element value at 0x7ff8a80f23f8> {'name': 'id'}\n",
      "0 <Element value at 0x7ff8a80f2440> {'name': 'id_1'}\n",
      "0 <Element value at 0x7ff8a80f2488> {'name': 'id_2'}\n",
      "0 <Element value at 0x7ff8a80f23f8> {'name': 'text_1'}\n",
      "0 <Element value at 0x7ff8a80f2440> {'name': 'text_2'}\n",
      "0 <Element value at 0x7ff8a80f2488> {'name': 'jaccard'}\n",
      "0 <Element value at 0x7ff8a80f23f8> {'name': 'class'}\n",
      "None\n"
     ]
    }
   ],
   "source": [
    "for child in root:\n",
    "    print len(child), child \n",
    "    \n",
    "corpus = root[1]\n",
    "for paraphrase in corpus[:1]:\n",
    "    print len(paraphrase), paraphrase, \"phrases\"\n",
    "    for field in paraphrase:\n",
    "        print len(field), field, field.attrib\n",
    "    print paraphrase.get('text_1')"
   ]
  },
  {
   "cell_type": "code",
   "execution_count": 34,
   "metadata": {
    "collapsed": false
   },
   "outputs": [
    {
     "name": "stdout",
     "output_type": "stream",
     "text": [
      "corpus.xml  LICENSE  ParaphraseDetection.ipynb  paraphrases.xml\r\n"
     ]
    }
   ],
   "source": [
    "ls"
   ]
  },
  {
   "cell_type": "code",
   "execution_count": null,
   "metadata": {
    "collapsed": true
   },
   "outputs": [],
   "source": []
  }
 ],
 "metadata": {
  "anaconda-cloud": {},
  "kernelspec": {
   "display_name": "Python [conda root]",
   "language": "python",
   "name": "conda-root-py"
  },
  "language_info": {
   "codemirror_mode": {
    "name": "ipython",
    "version": 2
   },
   "file_extension": ".py",
   "mimetype": "text/x-python",
   "name": "python",
   "nbconvert_exporter": "python",
   "pygments_lexer": "ipython2",
   "version": "2.7.12"
  }
 },
 "nbformat": 4,
 "nbformat_minor": 1
}
